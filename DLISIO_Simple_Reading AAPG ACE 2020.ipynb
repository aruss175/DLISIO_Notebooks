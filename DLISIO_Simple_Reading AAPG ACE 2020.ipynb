{
 "cells": [
  {
   "cell_type": "markdown",
   "metadata": {},
   "source": [
    "# DLISIO for ACE 2020"
   ]
  },
  {
   "cell_type": "markdown",
   "metadata": {},
   "source": [
    "## Importing"
   ]
  },
  {
   "cell_type": "code",
   "execution_count": null,
   "metadata": {},
   "outputs": [],
   "source": [
    "import dlisio"
   ]
  },
  {
   "cell_type": "code",
   "execution_count": null,
   "metadata": {
    "scrolled": true
   },
   "outputs": [],
   "source": [
    "%matplotlib inline\n",
    "\n",
    "import os\n",
    "import pandas as pd\n",
    "import matplotlib.pyplot as plt\n",
    "import numpy as np\n",
    "import numpy.lib.recfunctions as rfn\n",
    "import re\n",
    "import tempfile\n",
    "import sys\n",
    "import hvplot.pandas\n",
    "import holoviews as hv\n",
    "from holoviews import opts, streams\n",
    "from holoviews.plotting.links import DataLink\n",
    "hv.extension('bokeh', logo=None)\n",
    "from IPython.display import display, HTML\n",
    "from bokeh.models.tools import LassoSelectTool, BoxSelectTool  # tools=['hover']\n",
    "box_select = BoxSelectTool()\n",
    "lasso_select = LassoSelectTool()\n",
    "import panel as pn\n",
    "pn.extension()\n",
    "from IPython.display import display, HTML\n",
    "\n",
    "display(HTML(data=\"\"\"\n",
    "<style>\n",
    "    div#notebook-container    { width: 95%; }\n",
    "    div#menubar-container     { width: 65%; }\n",
    "    div#maintoolbar-container { width: 60%; }\n",
    "</style>\n",
    "\"\"\"))"
   ]
  },
  {
   "cell_type": "markdown",
   "metadata": {},
   "source": [
    "## We will use a file from the Volve Dataset:"
   ]
  },
  {
   "cell_type": "code",
   "execution_count": null,
   "metadata": {},
   "outputs": [],
   "source": [
    "filepath = r\"\\WL_RAW_CAL-DEN-GR-NEU-REMP_MWD_1.DLIS\""
   ]
  },
  {
   "cell_type": "code",
   "execution_count": null,
   "metadata": {},
   "outputs": [],
   "source": [
    "file = dlisio.dlis.load(filepath)"
   ]
  },
  {
   "cell_type": "code",
   "execution_count": null,
   "metadata": {},
   "outputs": [],
   "source": [
    "file.describe()"
   ]
  },
  {
   "cell_type": "markdown",
   "metadata": {},
   "source": [
    "## What is the origin metadata?"
   ]
  },
  {
   "cell_type": "code",
   "execution_count": null,
   "metadata": {},
   "outputs": [],
   "source": [
    "for d in file:\n",
    "    for origin in d.origins:\n",
    "        print(origin.describe())"
   ]
  },
  {
   "cell_type": "markdown",
   "metadata": {},
   "source": [
    "## What is the curve inventory?"
   ]
  },
  {
   "cell_type": "code",
   "execution_count": null,
   "metadata": {
    "scrolled": true
   },
   "outputs": [],
   "source": [
    "for d in file:\n",
    "    for frame in d.frames:\n",
    "        print(frame.describe())"
   ]
  },
  {
   "cell_type": "markdown",
   "metadata": {},
   "source": [
    "## What curve information is available?"
   ]
  },
  {
   "cell_type": "code",
   "execution_count": null,
   "metadata": {},
   "outputs": [],
   "source": [
    "for d in file:\n",
    "    for frame in d.frames:\n",
    "        for channel in frame.channels:\n",
    "            print(channel.describe())"
   ]
  },
  {
   "cell_type": "markdown",
   "metadata": {
    "scrolled": true
   },
   "source": [
    "## Let's get the actual well log data now..."
   ]
  },
  {
   "cell_type": "markdown",
   "metadata": {},
   "source": [
    "### First for a well log by name either via a find or explicit..."
   ]
  },
  {
   "cell_type": "code",
   "execution_count": null,
   "metadata": {},
   "outputs": [],
   "source": [
    "for d in file:\n",
    "    search_log = d.find('CHANNEL','PEF')\n",
    "    for channel in search_log:\n",
    "        print(channel.name)\n",
    "        print(channel.curves())"
   ]
  },
  {
   "cell_type": "code",
   "execution_count": null,
   "metadata": {},
   "outputs": [],
   "source": [
    "for d in file:\n",
    "     for frame in d.frames:\n",
    "        for channel in frame.channels:\n",
    "            if channel.name == 'PEF':\n",
    "                print(channel.curves())"
   ]
  },
  {
   "cell_type": "markdown",
   "metadata": {},
   "source": [
    "### Then for all well logs in the entire file..."
   ]
  },
  {
   "cell_type": "code",
   "execution_count": null,
   "metadata": {},
   "outputs": [],
   "source": [
    "for d in file:\n",
    "    for frame in d.frames:\n",
    "        curves = frame.curves()\n",
    "\n",
    "\n",
    "curves"
   ]
  },
  {
   "cell_type": "markdown",
   "metadata": {},
   "source": [
    "## Getting curves into pandas dataframes."
   ]
  },
  {
   "cell_type": "code",
   "execution_count": null,
   "metadata": {},
   "outputs": [],
   "source": [
    "for d in file:\n",
    "    frame_count = 0\n",
    "    for frame in d.frames:\n",
    "        if frame_count == 0:\n",
    "            curves = frame.curves()\n",
    "            frame_count = frame_count + 1"
   ]
  },
  {
   "cell_type": "code",
   "execution_count": null,
   "metadata": {},
   "outputs": [],
   "source": [
    "curves"
   ]
  },
  {
   "cell_type": "code",
   "execution_count": null,
   "metadata": {},
   "outputs": [],
   "source": [
    "curves['HAZI']"
   ]
  },
  {
   "cell_type": "code",
   "execution_count": null,
   "metadata": {},
   "outputs": [],
   "source": [
    "for d in file:\n",
    "    frame_count = 0\n",
    "    for frame in d.frames:\n",
    "        if frame_count == 0:\n",
    "            curves = frame.curves()\n",
    "            df = pd.DataFrame(curves[['TDEP','DEVI', 'HAZI', 'PEF']], index=curves[frame.index])\n",
    "            frame_count = frame_count + 1"
   ]
  },
  {
   "cell_type": "code",
   "execution_count": null,
   "metadata": {},
   "outputs": [],
   "source": [
    "df"
   ]
  },
  {
   "cell_type": "markdown",
   "metadata": {},
   "source": [
    "## Visualize"
   ]
  },
  {
   "cell_type": "code",
   "execution_count": null,
   "metadata": {
    "scrolled": true
   },
   "outputs": [],
   "source": [
    "df['TDEP_ft'] = df.loc[:,'TDEP'] * 0.0083333  #Convert to feet from 0.1in\n",
    "#curve_list = list(df.columns)\n",
    "#curve_list.remove('TDEP_ft')\n",
    "#curve_list = curve_list[0:15] #Take only the first 15 channels to display\n",
    "curve_list = ['TDEP','DEVI', 'HAZI', 'PEF']"
   ]
  },
  {
   "cell_type": "code",
   "execution_count": null,
   "metadata": {},
   "outputs": [],
   "source": [
    "def curve_plot(log, df, depthname):\n",
    "  aplot = df.hvplot(x=depthname, y=log, invert=True, flip_yaxis=True, shared_axes=True,\n",
    "                       height=600, width=300).opts(fontsize={'labels': 16,'xticks': 14, 'yticks': 14})\n",
    "  return aplot;\n",
    "\n",
    "plotlist = [curve_plot(x, df=df, depthname='TDEP_ft') for x in curve_list]\n",
    "well_section = hv.Layout(plotlist).cols(len(curve_list))\n",
    "well_section"
   ]
  },
  {
   "cell_type": "code",
   "execution_count": null,
   "metadata": {},
   "outputs": [],
   "source": []
  }
 ],
 "metadata": {
  "kernelspec": {
   "display_name": "Python 3 (ipykernel)",
   "language": "python",
   "name": "python3"
  },
  "language_info": {
   "codemirror_mode": {
    "name": "ipython",
    "version": 3
   },
   "file_extension": ".py",
   "mimetype": "text/x-python",
   "name": "python",
   "nbconvert_exporter": "python",
   "pygments_lexer": "ipython3",
   "version": "3.11.8"
  }
 },
 "nbformat": 4,
 "nbformat_minor": 4
}
